{
 "cells": [
  {
   "cell_type": "markdown",
   "metadata": {},
   "source": [
    "# NAME"
   ]
  },
  {
   "cell_type": "markdown",
   "metadata": {},
   "source": [
    "## Description"
   ]
  },
  {
   "cell_type": "markdown",
   "metadata": {},
   "source": [
    "# Import and Setup"
   ]
  },
  {
   "cell_type": "code",
   "execution_count": 36,
   "metadata": {
    "ExecuteTime": {
     "end_time": "2021-06-14T11:43:52.126683Z",
     "start_time": "2021-06-14T11:43:52.029326Z"
    }
   },
   "outputs": [
    {
     "name": "stdout",
     "output_type": "stream",
     "text": [
      "The autoreload extension is already loaded. To reload it, use:\n",
      "  %reload_ext autoreload\n"
     ]
    }
   ],
   "source": [
    "%load_ext autoreload\n",
    "%autoreload 2"
   ]
  },
  {
   "cell_type": "code",
   "execution_count": 37,
   "metadata": {
    "ExecuteTime": {
     "end_time": "2021-06-14T11:43:53.055306Z",
     "start_time": "2021-06-14T11:43:52.962085Z"
    }
   },
   "outputs": [],
   "source": [
    "import os, sys\n",
    "sys.path.append('../')"
   ]
  },
  {
   "cell_type": "code",
   "execution_count": 38,
   "metadata": {
    "ExecuteTime": {
     "end_time": "2021-06-14T11:43:53.973594Z",
     "start_time": "2021-06-14T11:43:53.862638Z"
    }
   },
   "outputs": [],
   "source": [
    "import os, sys\n",
    "import glob\n",
    "import numpy as np\n",
    "import pandas as pd\n",
    "import seaborn as sns\n",
    "from matplotlib import pyplot as plt\n",
    "plt.rcParams['figure.figsize'] = (10.0, 8.0)"
   ]
  },
  {
   "cell_type": "code",
   "execution_count": 39,
   "metadata": {
    "ExecuteTime": {
     "end_time": "2021-06-14T11:43:55.150806Z",
     "start_time": "2021-06-14T11:43:55.007487Z"
    }
   },
   "outputs": [],
   "source": [
    "from get_loader import * "
   ]
  },
  {
   "cell_type": "markdown",
   "metadata": {},
   "source": [
    "# Function"
   ]
  },
  {
   "cell_type": "markdown",
   "metadata": {},
   "source": [
    "# Main"
   ]
  },
  {
   "cell_type": "code",
   "execution_count": 40,
   "metadata": {
    "ExecuteTime": {
     "end_time": "2021-06-14T11:44:02.970980Z",
     "start_time": "2021-06-14T11:43:59.836968Z"
    }
   },
   "outputs": [],
   "source": [
    "dataset_folder = os.path.join(\"../datasets\", \"MSVD\")\n",
    "train_loader, train_dataset = get_loader(root_dir=dataset_folder, split=\"train\", batch_size=1)\n",
    "val_loader, val_dataset = get_loader(root_dir=dataset_folder, split=\"val\", batch_size=1)\n",
    "test_loader, test_dataset = get_loader(root_dir=dataset_folder, split=\"test\", batch_size=1, num_workers=1)"
   ]
  },
  {
   "cell_type": "code",
   "execution_count": 42,
   "metadata": {
    "ExecuteTime": {
     "end_time": "2021-06-14T11:44:17.377459Z",
     "start_time": "2021-06-14T11:44:17.008290Z"
    }
   },
   "outputs": [
    {
     "name": "stdout",
     "output_type": "stream",
     "text": [
      "0 torch.Size([4, 17, 1128]) torch.Size([12, 4])\n",
      "1 torch.Size([4, 44, 1128]) torch.Size([12, 4])\n",
      "2 torch.Size([4, 21, 1128]) torch.Size([9, 4])\n",
      "3 torch.Size([4, 17, 1128]) torch.Size([24, 4])\n",
      "4 torch.Size([4, 13, 1128]) torch.Size([7, 4])\n",
      "5 torch.Size([4, 44, 1128]) torch.Size([11, 4])\n",
      "6 torch.Size([4, 11, 1128]) torch.Size([9, 4])\n",
      "7 torch.Size([4, 17, 1128]) torch.Size([13, 4])\n",
      "8 torch.Size([4, 44, 1128]) torch.Size([9, 4])\n",
      "9 torch.Size([4, 21, 1128]) torch.Size([9, 4])\n",
      "10 torch.Size([4, 24, 1128]) torch.Size([13, 4])\n",
      "11 torch.Size([4, 11, 1128]) torch.Size([18, 4])\n",
      "12 torch.Size([4, 17, 1128]) torch.Size([10, 4])\n",
      "13 torch.Size([4, 24, 1128]) torch.Size([15, 4])\n",
      "14 torch.Size([4, 24, 1128]) torch.Size([12, 4])\n",
      "15 torch.Size([4, 19, 1128]) torch.Size([10, 4])\n",
      "16 torch.Size([4, 12, 1128]) torch.Size([9, 4])\n",
      "17 torch.Size([4, 44, 1128]) torch.Size([10, 4])\n",
      "18 torch.Size([4, 19, 1128]) torch.Size([7, 4])\n",
      "19 torch.Size([4, 44, 1128]) torch.Size([11, 4])\n",
      "20 torch.Size([4, 11, 1128]) torch.Size([10, 4])\n",
      "21 torch.Size([4, 21, 1128]) torch.Size([8, 4])\n",
      "22 torch.Size([4, 12, 1128]) torch.Size([10, 4])\n",
      "23 torch.Size([4, 24, 1128]) torch.Size([13, 4])\n",
      "24 torch.Size([2, 17, 1128]) torch.Size([11, 2])\n"
     ]
    }
   ],
   "source": [
    "tiny_loader, tiny_dataset = get_loader(root_dir=dataset_folder, split=\"tiny\", batch_size=4)\n",
    "\n",
    "for loader in [tiny_loader]:\n",
    "    for idx, (features, captions) in enumerate(loader):\n",
    "        print(idx, features.shape, captions.shape)"
   ]
  },
  {
   "cell_type": "code",
   "execution_count": 51,
   "metadata": {
    "ExecuteTime": {
     "end_time": "2021-06-14T11:47:55.351247Z",
     "start_time": "2021-06-14T11:47:54.358593Z"
    }
   },
   "outputs": [
    {
     "data": {
      "image/png": "[encoded data removed]",
      "text/plain": [
       "<Figure size 720x576 with 4 Axes>"
      ]
     },
     "metadata": {
      "needs_background": "light"
     },
     "output_type": "display_data"
    }
   ],
   "source": [
    "for i in range(features.shape[0]):\n",
    "    plt.subplot(2,2,i+1)\n",
    "    sns.heatmap(features[i])"
   ]
  },
  {
   "cell_type": "code",
   "execution_count": 61,
   "metadata": {
    "ExecuteTime": {
     "end_time": "2021-06-14T11:50:26.965238Z",
     "start_time": "2021-06-14T11:50:26.855458Z"
    }
   },
   "outputs": [
    {
     "data": {
      "text/plain": [
       "(tensor(0.), tensor(48.1306))"
      ]
     },
     "execution_count": 61,
     "metadata": {},
     "output_type": "execute_result"
    }
   ],
   "source": [
    "img_feat = features[:,:,:1000]\n",
    "img_feat.min(), img_feat.max()"
   ]
  },
  {
   "cell_type": "code",
   "execution_count": 62,
   "metadata": {
    "ExecuteTime": {
     "end_time": "2021-06-14T11:50:27.970578Z",
     "start_time": "2021-06-14T11:50:27.875152Z"
    }
   },
   "outputs": [
    {
     "data": {
      "text/plain": [
       "(tensor(0.), tensor(510.))"
      ]
     },
     "execution_count": 62,
     "metadata": {},
     "output_type": "execute_result"
    }
   ],
   "source": [
    "audio_feat = features[:,:,1000:]\n",
    "audio_feat.min(), audio_feat.max()"
   ]
  },
  {
   "cell_type": "code",
   "execution_count": null,
   "metadata": {},
   "outputs": [],
   "source": []
  }
 ],
 "metadata": {
  "kernelspec": {
   "display_name": "Python 3",
   "language": "python",
   "name": "python3"
  },
  "language_info": {
   "codemirror_mode": {
    "name": "ipython",
    "version": 3
   },
   "file_extension": ".py",
   "mimetype": "text/x-python",
   "name": "python",
   "nbconvert_exporter": "python",
   "pygments_lexer": "ipython3",
   "version": "3.6.8"
  },
  "toc": {
   "base_numbering": 1,
   "nav_menu": {},
   "number_sections": true,
   "sideBar": true,
   "skip_h1_title": false,
   "title_cell": "Table of Contents",
   "title_sidebar": "Contents",
   "toc_cell": false,
   "toc_position": {},
   "toc_section_display": true,
   "toc_window_display": false
  },
  "varInspector": {
   "cols": {
    "lenName": 16,
    "lenType": 16,
    "lenVar": 40
   },
   "kernels_config": {
    "python": {
     "delete_cmd_postfix": "",
     "delete_cmd_prefix": "del ",
     "library": "var_list.py",
     "varRefreshCmd": "print(var_dic_list())"
    },
    "r": {
     "delete_cmd_postfix": ") ",
     "delete_cmd_prefix": "rm(",
     "library": "var_list.r",
     "varRefreshCmd": "cat(var_dic_list()) "
    }
   },
   "types_to_exclude": [
    "module",
    "function",
    "builtin_function_or_method",
    "instance",
    "_Feature"
   ],
   "window_display": false
  }
 },
 "nbformat": 4,
 "nbformat_minor": 2
}
