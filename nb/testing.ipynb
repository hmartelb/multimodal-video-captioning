{
 "cells": [
  {
   "cell_type": "markdown",
   "metadata": {},
   "source": [
    "# Import and Setup"
   ]
  },
  {
   "cell_type": "code",
   "execution_count": 1,
   "metadata": {
    "ExecuteTime": {
     "end_time": "2021-06-17T02:07:14.139183Z",
     "start_time": "2021-06-17T02:07:14.101627Z"
    }
   },
   "outputs": [],
   "source": [
    "%load_ext autoreload\n",
    "%autoreload 2"
   ]
  },
  {
   "cell_type": "code",
   "execution_count": 2,
   "metadata": {
    "ExecuteTime": {
     "end_time": "2021-06-17T02:07:14.485101Z",
     "start_time": "2021-06-17T02:07:14.453334Z"
    }
   },
   "outputs": [],
   "source": [
    "import os, sys\n",
    "sys.path.append('../')"
   ]
  },
  {
   "cell_type": "code",
   "execution_count": 3,
   "metadata": {
    "ExecuteTime": {
     "end_time": "2021-06-17T02:07:16.594836Z",
     "start_time": "2021-06-17T02:07:14.850178Z"
    }
   },
   "outputs": [],
   "source": [
    "import os, sys\n",
    "import glob\n",
    "import numpy as np\n",
    "import pandas as pd\n",
    "import seaborn as sns\n",
    "from matplotlib import pyplot as plt\n",
    "plt.rcParams['figure.figsize'] = (10.0, 8.0)"
   ]
  },
  {
   "cell_type": "code",
   "execution_count": 4,
   "metadata": {
    "ExecuteTime": {
     "end_time": "2021-06-17T02:07:27.622950Z",
     "start_time": "2021-06-17T02:07:16.702834Z"
    }
   },
   "outputs": [
    {
     "name": "stderr",
     "output_type": "stream",
     "text": [
      "/Users/ckh/anaconda3/lib/python3.6/site-packages/dask/dataframe/utils.py:13: FutureWarning: pandas.util.testing is deprecated. Use the functions in the public API at pandas.testing instead.\n",
      "  import pandas.util.testing as tm\n"
     ]
    }
   ],
   "source": [
    "from get_loader import * "
   ]
  },
  {
   "cell_type": "markdown",
   "metadata": {},
   "source": [
    "# Function"
   ]
  },
  {
   "cell_type": "markdown",
   "metadata": {
    "heading_collapsed": true
   },
   "source": [
    "# Data loader"
   ]
  },
  {
   "cell_type": "code",
   "execution_count": 40,
   "metadata": {
    "ExecuteTime": {
     "end_time": "2021-06-14T11:44:02.970980Z",
     "start_time": "2021-06-14T11:43:59.836968Z"
    },
    "hidden": true
   },
   "outputs": [],
   "source": [
    "dataset_folder = os.path.join(\"../datasets\", \"MSVD\")\n",
    "train_loader, train_dataset = get_loader(root_dir=dataset_folder, split=\"train\", batch_size=1)\n",
    "val_loader, val_dataset = get_loader(root_dir=dataset_folder, split=\"val\", batch_size=1)\n",
    "test_loader, test_dataset = get_loader(root_dir=dataset_folder, split=\"test\", batch_size=1, num_workers=1)"
   ]
  },
  {
   "cell_type": "code",
   "execution_count": 42,
   "metadata": {
    "ExecuteTime": {
     "end_time": "2021-06-14T11:44:17.377459Z",
     "start_time": "2021-06-14T11:44:17.008290Z"
    },
    "hidden": true
   },
   "outputs": [
    {
     "name": "stdout",
     "output_type": "stream",
     "text": [
      "0 torch.Size([4, 17, 1128]) torch.Size([12, 4])\n",
      "1 torch.Size([4, 44, 1128]) torch.Size([12, 4])\n",
      "2 torch.Size([4, 21, 1128]) torch.Size([9, 4])\n",
      "3 torch.Size([4, 17, 1128]) torch.Size([24, 4])\n",
      "4 torch.Size([4, 13, 1128]) torch.Size([7, 4])\n",
      "5 torch.Size([4, 44, 1128]) torch.Size([11, 4])\n",
      "6 torch.Size([4, 11, 1128]) torch.Size([9, 4])\n",
      "7 torch.Size([4, 17, 1128]) torch.Size([13, 4])\n",
      "8 torch.Size([4, 44, 1128]) torch.Size([9, 4])\n",
      "9 torch.Size([4, 21, 1128]) torch.Size([9, 4])\n",
      "10 torch.Size([4, 24, 1128]) torch.Size([13, 4])\n",
      "11 torch.Size([4, 11, 1128]) torch.Size([18, 4])\n",
      "12 torch.Size([4, 17, 1128]) torch.Size([10, 4])\n",
      "13 torch.Size([4, 24, 1128]) torch.Size([15, 4])\n",
      "14 torch.Size([4, 24, 1128]) torch.Size([12, 4])\n",
      "15 torch.Size([4, 19, 1128]) torch.Size([10, 4])\n",
      "16 torch.Size([4, 12, 1128]) torch.Size([9, 4])\n",
      "17 torch.Size([4, 44, 1128]) torch.Size([10, 4])\n",
      "18 torch.Size([4, 19, 1128]) torch.Size([7, 4])\n",
      "19 torch.Size([4, 44, 1128]) torch.Size([11, 4])\n",
      "20 torch.Size([4, 11, 1128]) torch.Size([10, 4])\n",
      "21 torch.Size([4, 21, 1128]) torch.Size([8, 4])\n",
      "22 torch.Size([4, 12, 1128]) torch.Size([10, 4])\n",
      "23 torch.Size([4, 24, 1128]) torch.Size([13, 4])\n",
      "24 torch.Size([2, 17, 1128]) torch.Size([11, 2])\n"
     ]
    }
   ],
   "source": [
    "tiny_loader, tiny_dataset = get_loader(root_dir=dataset_folder, split=\"tiny\", batch_size=4)\n",
    "\n",
    "for loader in [tiny_loader]:\n",
    "    for idx, (features, captions) in enumerate(loader):\n",
    "        print(idx, features.shape, captions.shape)"
   ]
  },
  {
   "cell_type": "code",
   "execution_count": 51,
   "metadata": {
    "ExecuteTime": {
     "end_time": "2021-06-14T11:47:55.351247Z",
     "start_time": "2021-06-14T11:47:54.358593Z"
    },
    "hidden": true
   },
   "outputs": [
    {
     "data": {
      "image/png": "[encoded data removed]",
      "text/plain": [
       "<Figure size 720x576 with 4 Axes>"
      ]
     },
     "metadata": {
      "needs_background": "light"
     },
     "output_type": "display_data"
    }
   ],
   "source": [
    "for i in range(features.shape[0]):\n",
    "    plt.subplot(2,2,i+1)\n",
    "    sns.heatmap(features[i])"
   ]
  },
  {
   "cell_type": "code",
   "execution_count": 61,
   "metadata": {
    "ExecuteTime": {
     "end_time": "2021-06-14T11:50:26.965238Z",
     "start_time": "2021-06-14T11:50:26.855458Z"
    },
    "hidden": true
   },
   "outputs": [
    {
     "data": {
      "text/plain": [
       "(tensor(0.), tensor(48.1306))"
      ]
     },
     "execution_count": 61,
     "metadata": {},
     "output_type": "execute_result"
    }
   ],
   "source": [
    "img_feat = features[:,:,:1000]\n",
    "img_feat.min(), img_feat.max()"
   ]
  },
  {
   "cell_type": "code",
   "execution_count": 62,
   "metadata": {
    "ExecuteTime": {
     "end_time": "2021-06-14T11:50:27.970578Z",
     "start_time": "2021-06-14T11:50:27.875152Z"
    },
    "hidden": true
   },
   "outputs": [
    {
     "data": {
      "text/plain": [
       "(tensor(0.), tensor(510.))"
      ]
     },
     "execution_count": 62,
     "metadata": {},
     "output_type": "execute_result"
    }
   ],
   "source": [
    "audio_feat = features[:,:,1000:]\n",
    "audio_feat.min(), audio_feat.max()"
   ]
  },
  {
   "cell_type": "code",
   "execution_count": null,
   "metadata": {
    "hidden": true
   },
   "outputs": [],
   "source": []
  },
  {
   "cell_type": "markdown",
   "metadata": {
    "heading_collapsed": true
   },
   "source": [
    "# Vocab set"
   ]
  },
  {
   "cell_type": "code",
   "execution_count": null,
   "metadata": {
    "hidden": true
   },
   "outputs": [],
   "source": [
    "## pre-build vocab\n",
    "dataset_folder = os.path.join(\"../datasets\", \"MSVD\")\n",
    "train_captions_file = os.path.join(dataset_folder, \"metadata\", \"train.csv\")\n",
    "val_captions_file = os.path.join(dataset_folder, \"metadata\", \"val.csv\")\n",
    "train_captions = pd.read_csv(train_captions_file)[\"Description\"].tolist()\n",
    "val_captions = pd.read_csv(val_captions_file)[\"Description\"].tolist()\n",
    "vocab_path = os.path.join(dataset_folder, \"metadata\", \"vocab.pkl\")\n",
    "\n",
    "Vocabulary.prebuild(train_captions + val_captions, vocab_path)"
   ]
  },
  {
   "cell_type": "code",
   "execution_count": null,
   "metadata": {
    "hidden": true
   },
   "outputs": [],
   "source": [
    "vocab = Vocabulary.load(vocab_path)\n",
    "len(vocab)"
   ]
  },
  {
   "cell_type": "markdown",
   "metadata": {
    "heading_collapsed": true
   },
   "source": [
    "# Training loop - DEV"
   ]
  },
  {
   "cell_type": "code",
   "execution_count": 5,
   "metadata": {
    "ExecuteTime": {
     "end_time": "2021-06-16T07:08:13.891402Z",
     "start_time": "2021-06-16T07:08:13.699889Z"
    },
    "hidden": true
   },
   "outputs": [],
   "source": [
    "import argparse\n",
    "import os\n",
    "\n",
    "import torch\n",
    "import torch.nn.functional as F\n",
    "import torch.optim as optim\n",
    "from torch.optim.lr_scheduler import ReduceLROnPlateau\n",
    "from torchvision import transforms\n",
    "from tqdm import tqdm\n",
    "\n",
    "from get_loader import Vocabulary, get_loader\n",
    "from losses import (EntropyLoss, GlobalReconstructionLoss,\n",
    "                    LocalReconstructionLoss, TotalReconstructionLoss)"
   ]
  },
  {
   "cell_type": "code",
   "execution_count": 91,
   "metadata": {
    "ExecuteTime": {
     "end_time": "2021-06-16T08:40:59.905565Z",
     "start_time": "2021-06-16T08:40:59.754855Z"
    },
    "hidden": true
   },
   "outputs": [],
   "source": [
    "from models.features_captioning import FeaturesCaptioning\n",
    "from models.captioning import AVCaptioning\n",
    "from trainer import Trainer"
   ]
  },
  {
   "cell_type": "code",
   "execution_count": 92,
   "metadata": {
    "ExecuteTime": {
     "end_time": "2021-06-16T08:41:01.982557Z",
     "start_time": "2021-06-16T08:41:01.834448Z"
    },
    "hidden": true
   },
   "outputs": [
    {
     "name": "stdout",
     "output_type": "stream",
     "text": [
      "Loading Vocab: ../datasets/MSVD/metadata/vocab.pkl \n"
     ]
    }
   ],
   "source": [
    "dataset_folder = os.path.join(\"../datasets\", \"MSVD\")\n",
    "vocab_pkl = os.path.join(dataset_folder, \"metadata\", \"vocab.pkl\")\n",
    "tiny_loader, tiny_dataset = get_loader(root_dir=dataset_folder, split=\"tiny\", vocab_pkl=vocab_pkl)"
   ]
  },
  {
   "cell_type": "code",
   "execution_count": 93,
   "metadata": {
    "ExecuteTime": {
     "end_time": "2021-06-16T08:41:03.207180Z",
     "start_time": "2021-06-16T08:41:03.094285Z"
    },
    "hidden": true
   },
   "outputs": [
    {
     "name": "stdout",
     "output_type": "stream",
     "text": [
      "3201\n"
     ]
    }
   ],
   "source": [
    "vocab = Vocabulary.load(vocab_pkl)\n",
    "print(len(vocab))"
   ]
  },
  {
   "cell_type": "code",
   "execution_count": 70,
   "metadata": {
    "ExecuteTime": {
     "end_time": "2021-06-16T08:12:47.368834Z",
     "start_time": "2021-06-16T08:12:47.144770Z"
    },
    "hidden": true
   },
   "outputs": [],
   "source": [
    "decoder_config = {    \n",
    "    'rnn_type'       : 'LSTM', # ['LSTM', 'GRU']\n",
    "    'rnn_num_layers' : 1,\n",
    "    'rnn_bidirectional': False,  # Bool\n",
    "    'rnn_hidden_size': 512,\n",
    "    'rnn_dropout'    : 0.5,    \n",
    "    \n",
    "    'in_feature_size': 1000+128,\n",
    "    'embedding_size' : 128,\n",
    "    'attn_size'      : 128,\n",
    "    'output_size'    : 3201, #Vocab Size\n",
    "\n",
    "    'rnn_teacher_forcing_ratio' : 1.0,\n",
    "    'max_caption_len' : 30,\n",
    "}"
   ]
  },
  {
   "cell_type": "code",
   "execution_count": 71,
   "metadata": {
    "ExecuteTime": {
     "end_time": "2021-06-16T08:12:48.464669Z",
     "start_time": "2021-06-16T08:12:48.362853Z"
    },
    "hidden": true
   },
   "outputs": [],
   "source": [
    "constructor_config = {   \n",
    "    'type'           : 'local',  # ['global', 'local']\n",
    "    'rnn_type'       : 'LSTM',    # ['LSTM', 'GRU']\n",
    "    'rnn_num_layers' : 1,\n",
    "    'rnn_bidirectional': False,     # Bool\n",
    "    'hidden_size'    : 512,       # feature_size\n",
    "    'rnn_dropout'    : 0.5,    \n",
    "    'decoder_size'   : 128,       # decoder_hidden_size\n",
    "    'attn_size'      : 128,       # only applied for local\n",
    "}"
   ]
  },
  {
   "cell_type": "code",
   "execution_count": 88,
   "metadata": {
    "ExecuteTime": {
     "end_time": "2021-06-16T08:20:03.664022Z",
     "start_time": "2021-06-16T08:19:41.175378Z"
    },
    "code_folding": [],
    "hidden": true
   },
   "outputs": [
    {
     "name": "stderr",
     "output_type": "stream",
     "text": [
      "\r",
      "TRAIN:   0%|          | 0/4 [00:00<?, ?it/s]"
     ]
    },
    {
     "name": "stdout",
     "output_type": "stream",
     "text": [
      "Start training\n",
      "\n",
      "Epoch 1/1:\n"
     ]
    },
    {
     "name": "stderr",
     "output_type": "stream",
     "text": [
      "TRAIN: 100%|██████████| 4/4 [00:19<00:00,  4.82s/it, total=8.09, ce=8.09, e=2.77e+3, recon=1.2e+3]\n",
      "TEST : 100%|██████████| 4/4 [00:02<00:00,  1.41it/s, total=7.87, ce=7.87, e=2.58e+3, recon=1.89e+3]\n"
     ]
    },
    {
     "name": "stdout",
     "output_type": "stream",
     "text": [
      "Validation loss improved from 1000000.0 to 7.840059161186218.\n",
      "Saving checkpoint to: checkpoints/test.ckpt\n"
     ]
    },
    {
     "data": {
      "text/plain": [
       "{'train_loss': [{'total': 8.017806887626648,\n",
       "   'ce': 8.017806887626648,\n",
       "   'e': 4101.0902099609375,\n",
       "   'recon': 1813.4128112792969}],\n",
       " 'val_loss': [{'total': 7.840059161186218,\n",
       "   'ce': 7.840059161186218,\n",
       "   'e': 4229.341003417969,\n",
       "   'recon': 1956.0495910644531}],\n",
       " 'test_loss': []}"
      ]
     },
     "execution_count": 88,
     "metadata": {},
     "output_type": "execute_result"
    }
   ],
   "source": [
    "from models.features_captioning import FeaturesCaptioning\n",
    "from models.reconstructor import GlobalReconstructor, LocalReconstructor\n",
    "\n",
    "device = torch.device(\"cuda\" if torch.cuda.is_available() else \"cpu\")\n",
    "\n",
    "config = decoder_config.copy()\n",
    "config['output_size'] = len(vocab)\n",
    "model = FeaturesCaptioning(**config)\n",
    "model.to(device)\n",
    "\n",
    "rec_config = constructor_config.copy()\n",
    "rec_config['decoder_size'] = config['rnn_hidden_size']\n",
    "rec_config['hidden_size'] = config['in_feature_size']\n",
    "# reconstructor = GlobalReconstructor(**rec_config,device=device)\n",
    "reconstructor = LocalReconstructor(**rec_config,device=device)\n",
    "reconstructor = reconstructor.to(device)\n",
    "\n",
    "print(\"Start training\")\n",
    "tr = Trainer(checkpoint_name=os.path.join(\"checkpoints\", \"test.ckpt\"))\n",
    "tr.fit(\n",
    "    model,\n",
    "    reconstructor,\n",
    "    tiny_loader,\n",
    "    tiny_loader,\n",
    "    device,\n",
    "    epochs=1,\n",
    ")\n"
   ]
  },
  {
   "cell_type": "code",
   "execution_count": 73,
   "metadata": {
    "ExecuteTime": {
     "end_time": "2021-06-16T08:13:05.596286Z",
     "start_time": "2021-06-16T08:13:05.139914Z"
    },
    "hidden": true
   },
   "outputs": [
    {
     "data": {
      "text/plain": [
       "(torch.Size([32, 44, 1128]), torch.Size([15, 32]))"
      ]
     },
     "execution_count": 73,
     "metadata": {},
     "output_type": "execute_result"
    }
   ],
   "source": [
    "data = iter(tiny_loader).next()\n",
    "x,y = data\n",
    "x.shape, y.shape"
   ]
  },
  {
   "cell_type": "code",
   "execution_count": 74,
   "metadata": {
    "ExecuteTime": {
     "end_time": "2021-06-16T08:13:07.685284Z",
     "start_time": "2021-06-16T08:13:06.859959Z"
    },
    "hidden": true
   },
   "outputs": [
    {
     "data": {
      "text/plain": [
       "(torch.Size([15, 32, 3201]), torch.Size([15, 1, 32, 512]))"
      ]
     },
     "execution_count": 74,
     "metadata": {},
     "output_type": "execute_result"
    }
   ],
   "source": [
    "outputs, hidden = model.decode(x,y,max_caption_len=y.shape[0])\n",
    "outputs.shape, hidden.shape"
   ]
  },
  {
   "cell_type": "code",
   "execution_count": 75,
   "metadata": {
    "ExecuteTime": {
     "end_time": "2021-06-16T08:13:09.020009Z",
     "start_time": "2021-06-16T08:13:08.739248Z"
    },
    "hidden": true
   },
   "outputs": [
    {
     "data": {
      "text/plain": [
       "torch.Size([32, 15, 1128])"
      ]
     },
     "execution_count": 75,
     "metadata": {},
     "output_type": "execute_result"
    }
   ],
   "source": [
    "feat_rec = reconstructor.reconstruct(hidden, outputs, y)\n",
    "feat_rec.shape"
   ]
  },
  {
   "cell_type": "code",
   "execution_count": 77,
   "metadata": {
    "ExecuteTime": {
     "end_time": "2021-06-16T08:14:11.868046Z",
     "start_time": "2021-06-16T08:14:11.705623Z"
    },
    "hidden": true
   },
   "outputs": [
    {
     "name": "stderr",
     "output_type": "stream",
     "text": [
      "../losses.py:31: UserWarning: Using a target size (torch.Size([32, 15, 1128])) that is different to the input size (torch.Size([32, 44, 1128])). This will likely lead to incorrect results due to broadcasting. Please ensure they have the same size.\n",
      "  return F.mse_loss(x, x_recon)\n"
     ]
    },
    {
     "ename": "RuntimeError",
     "evalue": "The size of tensor a (44) must match the size of tensor b (15) at non-singleton dimension 1",
     "output_type": "error",
     "traceback": [
      "\u001b[0;31m---------------------------------------------------------------------------\u001b[0m",
      "\u001b[0;31mRuntimeError\u001b[0m                              Traceback (most recent call last)",
      "\u001b[0;32m<ipython-input-77-200965c06191>\u001b[0m in \u001b[0;36m<module>\u001b[0;34m\u001b[0m\n\u001b[0;32m----> 1\u001b[0;31m \u001b[0mLocalReconstructionLoss\u001b[0m\u001b[0;34m(\u001b[0m\u001b[0mx\u001b[0m\u001b[0;34m,\u001b[0m \u001b[0mfeat_rec\u001b[0m\u001b[0;34m)\u001b[0m\u001b[0;34m\u001b[0m\u001b[0;34m\u001b[0m\u001b[0m\n\u001b[0m",
      "\u001b[0;32m~/Desktop/清华TsingHua/Sem2/NLP/Assignments/project/Video-Captioning-AV/losses.py\u001b[0m in \u001b[0;36mLocalReconstructionLoss\u001b[0;34m(x, x_recon)\u001b[0m\n\u001b[1;32m     29\u001b[0m \u001b[0;34m\u001b[0m\u001b[0m\n\u001b[1;32m     30\u001b[0m \u001b[0;32mdef\u001b[0m \u001b[0mLocalReconstructionLoss\u001b[0m\u001b[0;34m(\u001b[0m\u001b[0mx\u001b[0m\u001b[0;34m,\u001b[0m \u001b[0mx_recon\u001b[0m\u001b[0;34m)\u001b[0m\u001b[0;34m:\u001b[0m\u001b[0;34m\u001b[0m\u001b[0;34m\u001b[0m\u001b[0m\n\u001b[0;32m---> 31\u001b[0;31m     \u001b[0;32mreturn\u001b[0m \u001b[0mF\u001b[0m\u001b[0;34m.\u001b[0m\u001b[0mmse_loss\u001b[0m\u001b[0;34m(\u001b[0m\u001b[0mx\u001b[0m\u001b[0;34m,\u001b[0m \u001b[0mx_recon\u001b[0m\u001b[0;34m)\u001b[0m\u001b[0;34m\u001b[0m\u001b[0;34m\u001b[0m\u001b[0m\n\u001b[0m\u001b[1;32m     32\u001b[0m \u001b[0;34m\u001b[0m\u001b[0m\n\u001b[1;32m     33\u001b[0m \u001b[0;34m\u001b[0m\u001b[0m\n",
      "\u001b[0;32m~/anaconda3/lib/python3.6/site-packages/torch/nn/functional.py\u001b[0m in \u001b[0;36mmse_loss\u001b[0;34m(input, target, size_average, reduce, reduction)\u001b[0m\n\u001b[1;32m   2536\u001b[0m         \u001b[0mreduction\u001b[0m \u001b[0;34m=\u001b[0m \u001b[0m_Reduction\u001b[0m\u001b[0;34m.\u001b[0m\u001b[0mlegacy_get_string\u001b[0m\u001b[0;34m(\u001b[0m\u001b[0msize_average\u001b[0m\u001b[0;34m,\u001b[0m \u001b[0mreduce\u001b[0m\u001b[0;34m)\u001b[0m\u001b[0;34m\u001b[0m\u001b[0;34m\u001b[0m\u001b[0m\n\u001b[1;32m   2537\u001b[0m     \u001b[0;32mif\u001b[0m \u001b[0mtarget\u001b[0m\u001b[0;34m.\u001b[0m\u001b[0mrequires_grad\u001b[0m\u001b[0;34m:\u001b[0m\u001b[0;34m\u001b[0m\u001b[0;34m\u001b[0m\u001b[0m\n\u001b[0;32m-> 2538\u001b[0;31m         \u001b[0mret\u001b[0m \u001b[0;34m=\u001b[0m \u001b[0;34m(\u001b[0m\u001b[0minput\u001b[0m \u001b[0;34m-\u001b[0m \u001b[0mtarget\u001b[0m\u001b[0;34m)\u001b[0m \u001b[0;34m**\u001b[0m \u001b[0;36m2\u001b[0m\u001b[0;34m\u001b[0m\u001b[0;34m\u001b[0m\u001b[0m\n\u001b[0m\u001b[1;32m   2539\u001b[0m         \u001b[0;32mif\u001b[0m \u001b[0mreduction\u001b[0m \u001b[0;34m!=\u001b[0m \u001b[0;34m'none'\u001b[0m\u001b[0;34m:\u001b[0m\u001b[0;34m\u001b[0m\u001b[0;34m\u001b[0m\u001b[0m\n\u001b[1;32m   2540\u001b[0m             \u001b[0mret\u001b[0m \u001b[0;34m=\u001b[0m \u001b[0mtorch\u001b[0m\u001b[0;34m.\u001b[0m\u001b[0mmean\u001b[0m\u001b[0;34m(\u001b[0m\u001b[0mret\u001b[0m\u001b[0;34m)\u001b[0m \u001b[0;32mif\u001b[0m \u001b[0mreduction\u001b[0m \u001b[0;34m==\u001b[0m \u001b[0;34m'mean'\u001b[0m \u001b[0;32melse\u001b[0m \u001b[0mtorch\u001b[0m\u001b[0;34m.\u001b[0m\u001b[0msum\u001b[0m\u001b[0;34m(\u001b[0m\u001b[0mret\u001b[0m\u001b[0;34m)\u001b[0m\u001b[0;34m\u001b[0m\u001b[0;34m\u001b[0m\u001b[0m\n",
      "\u001b[0;31mRuntimeError\u001b[0m: The size of tensor a (44) must match the size of tensor b (15) at non-singleton dimension 1"
     ]
    }
   ],
   "source": [
    "LocalReconstructionLoss(x, feat_rec)"
   ]
  },
  {
   "cell_type": "code",
   "execution_count": 76,
   "metadata": {
    "ExecuteTime": {
     "end_time": "2021-06-16T08:13:10.042794Z",
     "start_time": "2021-06-16T08:13:09.935807Z"
    },
    "hidden": true
   },
   "outputs": [
    {
     "data": {
      "text/plain": [
       "(torch.Size([32, 44, 1128]), torch.Size([32, 15, 1128]), torch.Size([15, 32]))"
      ]
     },
     "execution_count": 76,
     "metadata": {},
     "output_type": "execute_result"
    }
   ],
   "source": [
    "x.shape, feat_rec.shape, y.shape"
   ]
  },
  {
   "cell_type": "code",
   "execution_count": 56,
   "metadata": {
    "ExecuteTime": {
     "end_time": "2021-06-16T07:28:26.294757Z",
     "start_time": "2021-06-16T07:28:26.145368Z"
    },
    "hidden": true
   },
   "outputs": [
    {
     "data": {
      "text/plain": [
       "(torch.Size([32, 18, 1128]), torch.Size([32, 1128]))"
      ]
     },
     "execution_count": 56,
     "metadata": {},
     "output_type": "execute_result"
    }
   ],
   "source": [
    "x_recon = feat_rec\n",
    "keep_mask = y != 0\n",
    "xx = x.mean(dim=1)\n",
    "\n",
    "x_recon.shape, xx.shape"
   ]
  },
  {
   "cell_type": "code",
   "execution_count": 57,
   "metadata": {
    "ExecuteTime": {
     "end_time": "2021-06-16T07:28:27.622920Z",
     "start_time": "2021-06-16T07:28:27.514632Z"
    },
    "hidden": true
   },
   "outputs": [
    {
     "data": {
      "text/plain": [
       "torch.Size([32, 1128])"
      ]
     },
     "execution_count": 57,
     "metadata": {},
     "output_type": "execute_result"
    }
   ],
   "source": [
    "caption_len = keep_mask.sum(dim=0)\n",
    "caption_len = caption_len.unsqueeze(1).expand(caption_len.size(0), x_recon.size(2))\n",
    "\n",
    "caption_len.shape"
   ]
  },
  {
   "cell_type": "code",
   "execution_count": 58,
   "metadata": {
    "ExecuteTime": {
     "end_time": "2021-06-16T07:28:28.973812Z",
     "start_time": "2021-06-16T07:28:28.863611Z"
    },
    "hidden": true
   },
   "outputs": [
    {
     "data": {
      "text/plain": [
       "(torch.Size([18, 32]), torch.Size([18, 32]))"
      ]
     },
     "execution_count": 58,
     "metadata": {},
     "output_type": "execute_result"
    }
   ],
   "source": [
    "y.shape, keep_mask.shape"
   ]
  },
  {
   "cell_type": "code",
   "execution_count": 61,
   "metadata": {
    "ExecuteTime": {
     "end_time": "2021-06-16T07:28:38.773106Z",
     "start_time": "2021-06-16T07:28:38.607232Z"
    },
    "hidden": true
   },
   "outputs": [
    {
     "data": {
      "text/plain": [
       "torch.Size([32, 18, 1128])"
      ]
     },
     "execution_count": 61,
     "metadata": {},
     "output_type": "execute_result"
    }
   ],
   "source": [
    "keep_mask = y != 0\n",
    "keep_mask = keep_mask.transpose(0, 1).unsqueeze(2).expand_as(x_recon)\n",
    "keep_mask.shape"
   ]
  },
  {
   "cell_type": "code",
   "execution_count": 62,
   "metadata": {
    "ExecuteTime": {
     "end_time": "2021-06-16T07:28:44.776151Z",
     "start_time": "2021-06-16T07:28:44.630223Z"
    },
    "hidden": true
   },
   "outputs": [
    {
     "data": {
      "text/plain": [
       "tensor(229.8353, grad_fn=<MeanBackward0>)"
      ]
     },
     "execution_count": 62,
     "metadata": {},
     "output_type": "execute_result"
    }
   ],
   "source": [
    "caption_len = caption_len.type(torch.FloatTensor).to(x_recon.device)\n",
    "keep_mask = keep_mask.type(torch.FloatTensor).to(x_recon.device)\n",
    "\n",
    "x_recon = keep_mask * x_recon\n",
    "x_recon = x_recon.sum(dim=1) / caption_len\n",
    "\n",
    "F.mse_loss(xx, x_recon)"
   ]
  },
  {
   "cell_type": "code",
   "execution_count": null,
   "metadata": {
    "hidden": true
   },
   "outputs": [],
   "source": []
  },
  {
   "cell_type": "code",
   "execution_count": null,
   "metadata": {
    "hidden": true
   },
   "outputs": [],
   "source": []
  },
  {
   "cell_type": "code",
   "execution_count": 32,
   "metadata": {
    "ExecuteTime": {
     "end_time": "2021-06-14T15:51:30.072910Z",
     "start_time": "2021-06-14T15:51:29.745643Z"
    },
    "hidden": true
   },
   "outputs": [],
   "source": [
    "## load config\n",
    "decoder_config = {\n",
    "    'rnn_num_layers' : 1,\n",
    "    'rnn_bidirection': False,\n",
    "    'rnn_hidden_size': 512,\n",
    "    'rnn_attn_size'  : 256,\n",
    "    'rnn_dropout'    : 0.5, \n",
    "    \n",
    "    #     rnn_type = 'LSTM'; assert rnn_type in [ 'LSTM', 'GRU' ]\n",
    "    #     rnn_teacher_forcing_ratio = 1.0\n",
    "}\n",
    "\n",
    "## load dataset\n",
    "dataloader = tiny_loader\n",
    "\n",
    "## load model\n",
    "## tensor board\n",
    "\n",
    "## optimizer\n",
    "## lr_scheduler\n",
    "\n",
    "## loop\n",
    "## train \n",
    "## val - keep best\n",
    "\n",
    "## Test"
   ]
  },
  {
   "cell_type": "code",
   "execution_count": null,
   "metadata": {
    "hidden": true
   },
   "outputs": [],
   "source": []
  },
  {
   "cell_type": "markdown",
   "metadata": {
    "heading_collapsed": true
   },
   "source": [
    "# Training loop "
   ]
  },
  {
   "cell_type": "code",
   "execution_count": 9,
   "metadata": {
    "ExecuteTime": {
     "end_time": "2021-06-16T09:50:32.157291Z",
     "start_time": "2021-06-16T09:50:32.038377Z"
    },
    "hidden": true
   },
   "outputs": [],
   "source": [
    "from models.captioning import AVCaptioning\n",
    "from trainer import Trainer, TrainerConfig"
   ]
  },
  {
   "cell_type": "code",
   "execution_count": 10,
   "metadata": {
    "ExecuteTime": {
     "end_time": "2021-06-16T09:50:32.759687Z",
     "start_time": "2021-06-16T09:50:32.636749Z"
    },
    "hidden": true
   },
   "outputs": [
    {
     "name": "stdout",
     "output_type": "stream",
     "text": [
      "Loading Vocab: ../datasets/MSVD/metadata/vocab.pkl \n",
      "3201\n"
     ]
    }
   ],
   "source": [
    "dataset_folder = os.path.join(\"../datasets\", \"MSVD\")\n",
    "vocab_pkl = os.path.join(dataset_folder, \"metadata\", \"vocab.pkl\")\n",
    "tiny_loader, tiny_dataset = get_loader(root_dir=dataset_folder, split=\"tiny\", vocab_pkl=vocab_pkl)\n",
    "\n",
    "vocab = Vocabulary.load(vocab_pkl)\n",
    "print(len(vocab))"
   ]
  },
  {
   "cell_type": "code",
   "execution_count": 11,
   "metadata": {
    "ExecuteTime": {
     "end_time": "2021-06-16T09:50:57.256998Z",
     "start_time": "2021-06-16T09:50:33.191582Z"
    },
    "hidden": true
   },
   "outputs": [
    {
     "name": "stderr",
     "output_type": "stream",
     "text": [
      "\r",
      "TRAIN:   0%|          | 0/4 [00:00<?, ?it/s]"
     ]
    },
    {
     "name": "stdout",
     "output_type": "stream",
     "text": [
      "Initializing Model...\n",
      "Decoder      : LSTM In 1128 Out 3201 Hidden 512\n",
      "Reconstuctor : global\n",
      "Start training\n",
      "\n",
      "Epoch 1/10:\n"
     ]
    },
    {
     "name": "stderr",
     "output_type": "stream",
     "text": [
      "TRAIN: 100%|██████████| 4/4 [00:11<00:00,  2.82s/it, total=8.19, ce=8.19, e=2.97e+3, recon=277]\n",
      "TEST : 100%|██████████| 4/4 [00:03<00:00,  1.32it/s, total=7.93, ce=7.93, e=2.78e+3, recon=398]\n",
      "TRAIN:   0%|          | 0/4 [00:00<?, ?it/s]"
     ]
    },
    {
     "name": "stdout",
     "output_type": "stream",
     "text": [
      "Validation loss improved from 1000000.0 to 7.959479212760925.\n",
      "Saving checkpoint to: checkpoints/test.ckpt\n",
      "\n",
      "Epoch 2/10:\n"
     ]
    },
    {
     "name": "stderr",
     "output_type": "stream",
     "text": [
      "TRAIN:  50%|█████     | 2/4 [00:09<00:09,  4.61s/it, total=7.92, ce=7.92, e=2.58e+3, recon=375]\n"
     ]
    },
    {
     "ename": "KeyboardInterrupt",
     "evalue": "",
     "output_type": "error",
     "traceback": [
      "\u001b[0;31m---------------------------------------------------------------------------\u001b[0m",
      "\u001b[0;31mKeyboardInterrupt\u001b[0m                         Traceback (most recent call last)",
      "\u001b[0;32m<ipython-input-11-12fbd348e1da>\u001b[0m in \u001b[0;36m<module>\u001b[0;34m\u001b[0m\n\u001b[1;32m     17\u001b[0m     \u001b[0mtiny_loader\u001b[0m\u001b[0;34m,\u001b[0m\u001b[0;34m\u001b[0m\u001b[0;34m\u001b[0m\u001b[0m\n\u001b[1;32m     18\u001b[0m     \u001b[0mdevice\u001b[0m\u001b[0;34m,\u001b[0m\u001b[0;34m\u001b[0m\u001b[0;34m\u001b[0m\u001b[0m\n\u001b[0;32m---> 19\u001b[0;31m     \u001b[0mtrain_config\u001b[0m\u001b[0;34m\u001b[0m\u001b[0;34m\u001b[0m\u001b[0m\n\u001b[0m\u001b[1;32m     20\u001b[0m )\n",
      "\u001b[0;32m~/Desktop/清华TsingHua/Sem2/NLP/Assignments/project/Video-Captioning-AV/trainer.py\u001b[0m in \u001b[0;36mfit\u001b[0;34m(self, model, train_loader, val_loader, device, train_config)\u001b[0m\n\u001b[1;32m    107\u001b[0m             \u001b[0mprint\u001b[0m\u001b[0;34m(\u001b[0m\u001b[0;34mf\"\\nEpoch {epoch}/{train_config.epochs}:\"\u001b[0m\u001b[0;34m)\u001b[0m\u001b[0;34m\u001b[0m\u001b[0;34m\u001b[0m\u001b[0m\n\u001b[1;32m    108\u001b[0m \u001b[0;34m\u001b[0m\u001b[0m\n\u001b[0;32m--> 109\u001b[0;31m             \u001b[0mtrain_loss\u001b[0m \u001b[0;34m=\u001b[0m \u001b[0mself\u001b[0m\u001b[0;34m.\u001b[0m\u001b[0mtrain\u001b[0m\u001b[0;34m(\u001b[0m\u001b[0mmodel\u001b[0m\u001b[0;34m,\u001b[0m \u001b[0mtrain_loader\u001b[0m\u001b[0;34m)\u001b[0m\u001b[0;34m\u001b[0m\u001b[0;34m\u001b[0m\u001b[0m\n\u001b[0m\u001b[1;32m    110\u001b[0m             \u001b[0mval_loss\u001b[0m \u001b[0;34m=\u001b[0m \u001b[0mself\u001b[0m\u001b[0;34m.\u001b[0m\u001b[0mtest\u001b[0m\u001b[0;34m(\u001b[0m\u001b[0mmodel\u001b[0m\u001b[0;34m,\u001b[0m \u001b[0mval_loader\u001b[0m\u001b[0;34m)\u001b[0m\u001b[0;34m\u001b[0m\u001b[0;34m\u001b[0m\u001b[0m\n\u001b[1;32m    111\u001b[0m \u001b[0;34m\u001b[0m\u001b[0m\n",
      "\u001b[0;32m~/Desktop/清华TsingHua/Sem2/NLP/Assignments/project/Video-Captioning-AV/trainer.py\u001b[0m in \u001b[0;36mtrain\u001b[0;34m(self, model, dataloader)\u001b[0m\n\u001b[1;32m    147\u001b[0m                     \u001b[0mfeatures_recons\u001b[0m\u001b[0;34m,\u001b[0m\u001b[0;34m\u001b[0m\u001b[0;34m\u001b[0m\u001b[0m\n\u001b[1;32m    148\u001b[0m                 )\n\u001b[0;32m--> 149\u001b[0;31m                 \u001b[0mloss\u001b[0m\u001b[0;34m.\u001b[0m\u001b[0mmean\u001b[0m\u001b[0;34m(\u001b[0m\u001b[0;34m)\u001b[0m\u001b[0;34m.\u001b[0m\u001b[0mbackward\u001b[0m\u001b[0;34m(\u001b[0m\u001b[0;34m)\u001b[0m\u001b[0;34m\u001b[0m\u001b[0;34m\u001b[0m\u001b[0m\n\u001b[0m\u001b[1;32m    150\u001b[0m \u001b[0;34m\u001b[0m\u001b[0m\n\u001b[1;32m    151\u001b[0m                 \u001b[0;32mif\u001b[0m \u001b[0mself\u001b[0m\u001b[0;34m.\u001b[0m\u001b[0mgradient_clip_value\u001b[0m \u001b[0;34m>\u001b[0m \u001b[0;36m0\u001b[0m\u001b[0;34m:\u001b[0m\u001b[0;34m\u001b[0m\u001b[0;34m\u001b[0m\u001b[0m\n",
      "\u001b[0;32m~/anaconda3/lib/python3.6/site-packages/torch/tensor.py\u001b[0m in \u001b[0;36mbackward\u001b[0;34m(self, gradient, retain_graph, create_graph)\u001b[0m\n\u001b[1;32m    196\u001b[0m                 \u001b[0mproducts\u001b[0m\u001b[0;34m.\u001b[0m \u001b[0mDefaults\u001b[0m \u001b[0mto\u001b[0m\u001b[0;31m \u001b[0m\u001b[0;31m`\u001b[0m\u001b[0;31m`\u001b[0m\u001b[0;32mFalse\u001b[0m\u001b[0;31m`\u001b[0m\u001b[0;31m`\u001b[0m\u001b[0;34m.\u001b[0m\u001b[0;34m\u001b[0m\u001b[0;34m\u001b[0m\u001b[0m\n\u001b[1;32m    197\u001b[0m         \"\"\"\n\u001b[0;32m--> 198\u001b[0;31m         \u001b[0mtorch\u001b[0m\u001b[0;34m.\u001b[0m\u001b[0mautograd\u001b[0m\u001b[0;34m.\u001b[0m\u001b[0mbackward\u001b[0m\u001b[0;34m(\u001b[0m\u001b[0mself\u001b[0m\u001b[0;34m,\u001b[0m \u001b[0mgradient\u001b[0m\u001b[0;34m,\u001b[0m \u001b[0mretain_graph\u001b[0m\u001b[0;34m,\u001b[0m \u001b[0mcreate_graph\u001b[0m\u001b[0;34m)\u001b[0m\u001b[0;34m\u001b[0m\u001b[0;34m\u001b[0m\u001b[0m\n\u001b[0m\u001b[1;32m    199\u001b[0m \u001b[0;34m\u001b[0m\u001b[0m\n\u001b[1;32m    200\u001b[0m     \u001b[0;32mdef\u001b[0m \u001b[0mregister_hook\u001b[0m\u001b[0;34m(\u001b[0m\u001b[0mself\u001b[0m\u001b[0;34m,\u001b[0m \u001b[0mhook\u001b[0m\u001b[0;34m)\u001b[0m\u001b[0;34m:\u001b[0m\u001b[0;34m\u001b[0m\u001b[0;34m\u001b[0m\u001b[0m\n",
      "\u001b[0;32m~/anaconda3/lib/python3.6/site-packages/torch/autograd/__init__.py\u001b[0m in \u001b[0;36mbackward\u001b[0;34m(tensors, grad_tensors, retain_graph, create_graph, grad_variables)\u001b[0m\n\u001b[1;32m     98\u001b[0m     Variable._execution_engine.run_backward(\n\u001b[1;32m     99\u001b[0m         \u001b[0mtensors\u001b[0m\u001b[0;34m,\u001b[0m \u001b[0mgrad_tensors\u001b[0m\u001b[0;34m,\u001b[0m \u001b[0mretain_graph\u001b[0m\u001b[0;34m,\u001b[0m \u001b[0mcreate_graph\u001b[0m\u001b[0;34m,\u001b[0m\u001b[0;34m\u001b[0m\u001b[0;34m\u001b[0m\u001b[0m\n\u001b[0;32m--> 100\u001b[0;31m         allow_unreachable=True)  # allow_unreachable flag\n\u001b[0m\u001b[1;32m    101\u001b[0m \u001b[0;34m\u001b[0m\u001b[0m\n\u001b[1;32m    102\u001b[0m \u001b[0;34m\u001b[0m\u001b[0m\n",
      "\u001b[0;31mKeyboardInterrupt\u001b[0m: "
     ]
    }
   ],
   "source": [
    "device = torch.device(\"cuda\" if torch.cuda.is_available() else \"cpu\")\n",
    "\n",
    "model = AVCaptioning(\n",
    "    vocab_size=len(vocab),\n",
    "    teacher_forcing_ratio=0.0,\n",
    "    device=device,\n",
    ") \n",
    "model.to(device)\n",
    "\n",
    "train_config = TrainerConfig()\n",
    "\n",
    "print(\"Start training\")\n",
    "tr = Trainer(checkpoint_name=os.path.join(\"checkpoints\", \"test.ckpt\"))\n",
    "tr.fit(\n",
    "    model,\n",
    "    tiny_loader,\n",
    "    tiny_loader,\n",
    "    device,\n",
    "    train_config\n",
    ")"
   ]
  },
  {
   "cell_type": "code",
   "execution_count": 32,
   "metadata": {
    "ExecuteTime": {
     "end_time": "2021-06-16T09:46:53.549556Z",
     "start_time": "2021-06-16T09:46:53.311972Z"
    },
    "hidden": true
   },
   "outputs": [
    {
     "ename": "NameError",
     "evalue": "name 'decoder_config' is not defined",
     "output_type": "error",
     "traceback": [
      "\u001b[0;31m---------------------------------------------------------------------------\u001b[0m",
      "\u001b[0;31mNameError\u001b[0m                                 Traceback (most recent call last)",
      "\u001b[0;32m<ipython-input-32-a8f8aae7e794>\u001b[0m in \u001b[0;36m<module>\u001b[0;34m\u001b[0m\n\u001b[0;32m----> 1\u001b[0;31m \u001b[0mdecoder_config\u001b[0m\u001b[0;34m\u001b[0m\u001b[0;34m\u001b[0m\u001b[0m\n\u001b[0m",
      "\u001b[0;31mNameError\u001b[0m: name 'decoder_config' is not defined"
     ]
    }
   ],
   "source": [
    "decoder_config"
   ]
  },
  {
   "cell_type": "markdown",
   "metadata": {},
   "source": [
    "# Bean Search - DEV"
   ]
  },
  {
   "cell_type": "code",
   "execution_count": 112,
   "metadata": {
    "ExecuteTime": {
     "end_time": "2021-06-17T06:38:18.381149Z",
     "start_time": "2021-06-17T06:38:18.046219Z"
    }
   },
   "outputs": [],
   "source": [
    "from models.features_captioning import FeaturesCaptioning\n",
    "from models.captioning import AVCaptioning\n",
    "from trainer import Trainer"
   ]
  },
  {
   "cell_type": "code",
   "execution_count": 113,
   "metadata": {
    "ExecuteTime": {
     "end_time": "2021-06-17T06:38:18.917262Z",
     "start_time": "2021-06-17T06:38:18.791283Z"
    }
   },
   "outputs": [
    {
     "name": "stdout",
     "output_type": "stream",
     "text": [
      "Loading Vocab: ../datasets/MSVD/metadata/vocab.pkl \n"
     ]
    }
   ],
   "source": [
    "dataset_folder = os.path.join(\"../datasets\", \"MSVD\")\n",
    "vocab_pkl = os.path.join(dataset_folder, \"metadata\", \"vocab.pkl\")\n",
    "tiny_loader, tiny_dataset = get_loader(root_dir=dataset_folder, split=\"tiny\", vocab_pkl=vocab_pkl, batch_size=2)"
   ]
  },
  {
   "cell_type": "code",
   "execution_count": 86,
   "metadata": {
    "ExecuteTime": {
     "end_time": "2021-06-17T06:06:56.932974Z",
     "start_time": "2021-06-17T06:06:56.836664Z"
    }
   },
   "outputs": [
    {
     "name": "stdout",
     "output_type": "stream",
     "text": [
      "3201\n"
     ]
    }
   ],
   "source": [
    "vocab = Vocabulary.load(vocab_pkl)\n",
    "print(len(vocab))"
   ]
  },
  {
   "cell_type": "code",
   "execution_count": 87,
   "metadata": {
    "ExecuteTime": {
     "end_time": "2021-06-17T06:07:02.454016Z",
     "start_time": "2021-06-17T06:07:02.336160Z"
    }
   },
   "outputs": [],
   "source": [
    "decoder_config = {    \n",
    "    'rnn_type'       : 'LSTM', # ['LSTM', 'GRU']\n",
    "    'rnn_num_layers' : 1,\n",
    "    'rnn_bidirectional': False,  # Bool\n",
    "    'rnn_hidden_size': 512,\n",
    "    'rnn_dropout'    : 0.5,    \n",
    "    \n",
    "    'in_feature_size': 1000+128,\n",
    "    'embedding_size' : 128,\n",
    "    'attn_size'      : 128,\n",
    "    'output_size'    : 3201, #Vocab Size\n",
    "\n",
    "    'rnn_teacher_forcing_ratio' : 1.0,\n",
    "    'max_caption_len' : 30,\n",
    "}"
   ]
  },
  {
   "cell_type": "code",
   "execution_count": 88,
   "metadata": {
    "ExecuteTime": {
     "end_time": "2021-06-17T06:07:04.875824Z",
     "start_time": "2021-06-17T06:07:04.706369Z"
    }
   },
   "outputs": [
    {
     "data": {
      "text/plain": [
       "FeaturesCaptioning(\n",
       "  (embedding): Embedding(3201, 128)\n",
       "  (attention): TemporalAttention(\n",
       "    (W): Linear(in_features=512, out_features=128, bias=False)\n",
       "    (U): Linear(in_features=1128, out_features=128, bias=False)\n",
       "    (w): Linear(in_features=128, out_features=1, bias=False)\n",
       "  )\n",
       "  (rnn): LSTM(1256, 512)\n",
       "  (out): Linear(in_features=512, out_features=3201, bias=True)\n",
       ")"
      ]
     },
     "execution_count": 88,
     "metadata": {},
     "output_type": "execute_result"
    }
   ],
   "source": [
    "device = torch.device(\"cuda\" if torch.cuda.is_available() else \"cpu\")\n",
    "\n",
    "config = decoder_config.copy()\n",
    "config['output_size'] = len(vocab)\n",
    "model = FeaturesCaptioning(**config)\n",
    "model.to(device)\n"
   ]
  },
  {
   "cell_type": "code",
   "execution_count": 89,
   "metadata": {
    "ExecuteTime": {
     "end_time": "2021-06-17T06:07:07.289603Z",
     "start_time": "2021-06-17T06:07:07.186409Z"
    }
   },
   "outputs": [
    {
     "data": {
      "text/plain": [
       "(torch.Size([2, 16, 1128]), torch.Size([10, 2]))"
      ]
     },
     "execution_count": 89,
     "metadata": {},
     "output_type": "execute_result"
    }
   ],
   "source": [
    "data = iter(tiny_loader).next()\n",
    "x,y = data\n",
    "x.shape, y.shape"
   ]
  },
  {
   "cell_type": "code",
   "execution_count": 90,
   "metadata": {
    "ExecuteTime": {
     "end_time": "2021-06-17T06:07:09.744404Z",
     "start_time": "2021-06-17T06:07:09.492973Z"
    }
   },
   "outputs": [
    {
     "data": {
      "text/plain": [
       "(torch.Size([30, 2, 3201]), torch.Size([30, 1, 2, 512]))"
      ]
     },
     "execution_count": 90,
     "metadata": {},
     "output_type": "execute_result"
    }
   ],
   "source": [
    "outputs, hidden = model.decode(x,max_caption_len=30)\n",
    "outputs.shape, hidden.shape"
   ]
  },
  {
   "cell_type": "code",
   "execution_count": 91,
   "metadata": {
    "ExecuteTime": {
     "end_time": "2021-06-17T06:07:18.520664Z",
     "start_time": "2021-06-17T06:07:18.431092Z"
    }
   },
   "outputs": [],
   "source": [
    "def get_rnn_init_hidden(batch_size, num_layers, num_directions, hidden_size):\n",
    "    if model.rnn_type == 'LSTM':\n",
    "        hidden = (\n",
    "            torch.zeros(num_layers * num_directions, batch_size, hidden_size),\n",
    "            torch.zeros(num_layers * num_directions, batch_size, hidden_size))\n",
    "    else:\n",
    "        hidden = torch.zeros(num_layers * num_directions, batch_size, hidden_size)\n",
    "    return hidden"
   ]
  },
  {
   "cell_type": "code",
   "execution_count": 96,
   "metadata": {
    "ExecuteTime": {
     "end_time": "2021-06-17T06:09:00.374000Z",
     "start_time": "2021-06-17T06:09:00.268950Z"
    }
   },
   "outputs": [],
   "source": [
    "batch_size = 2\n",
    "max_caption_len = 30\n",
    "feats = x\n",
    "alpha = 0\n",
    "width = 5\n",
    "vocab_size = len(vocab)\n",
    "\n",
    "hidden = get_rnn_init_hidden(c, model.num_layers, model.num_directions,\n",
    "                                          model.hidden_size)\n",
    "# [2 LSTM ] * [1 * batch * 512]\n",
    "\n",
    "input_list = [ torch.LongTensor(1, batch_size).fill_(vocab.stoi['<SOS>']) ]\n",
    "# [<SOS> * batch]\n",
    "\n",
    "hidden_list = [ hidden ]\n",
    "\n",
    "cum_prob_list = [ torch.ones(batch_size) ]\n",
    "cum_prob_list = [ torch.log(cum_prob) for cum_prob in cum_prob_list ]\n",
    "EOS_idx = vocab.stoi['<EOS>']\n",
    "\n",
    "output_list = [ [[]] for _ in range(batch_size) ]"
   ]
  },
  {
   "cell_type": "code",
   "execution_count": 101,
   "metadata": {
    "ExecuteTime": {
     "end_time": "2021-06-17T06:11:30.655224Z",
     "start_time": "2021-06-17T06:11:30.561988Z"
    }
   },
   "outputs": [
    {
     "name": "stdout",
     "output_type": "stream",
     "text": [
      "[tensor([1., 1.])]\n",
      "[tensor([0., 0.])]\n"
     ]
    }
   ],
   "source": [
    "cum_prob_list = [ torch.ones(batch_size) ]\n",
    "print(cum_prob_list)\n",
    "cum_prob_list = [ torch.log(cum_prob) for cum_prob in cum_prob_list ]\n",
    "print(cum_prob_list)"
   ]
  },
  {
   "cell_type": "code",
   "execution_count": 109,
   "metadata": {
    "ExecuteTime": {
     "end_time": "2021-06-17T06:18:13.033292Z",
     "start_time": "2021-06-17T06:18:11.548077Z"
    }
   },
   "outputs": [
    {
     "name": "stdout",
     "output_type": "stream",
     "text": [
      "0\n",
      "0\n",
      "1\n",
      "2\n",
      "3\n",
      "4\n",
      "0\n",
      "1\n",
      "2\n",
      "3\n",
      "4\n",
      "0\n",
      "1\n",
      "2\n",
      "3\n",
      "4\n",
      "0\n",
      "1\n",
      "2\n",
      "3\n",
      "4\n",
      "0\n",
      "1\n",
      "2\n",
      "3\n",
      "4\n",
      "0\n",
      "1\n",
      "2\n",
      "3\n",
      "4\n",
      "0\n",
      "1\n",
      "2\n",
      "3\n",
      "4\n",
      "0\n",
      "1\n",
      "2\n",
      "3\n",
      "4\n",
      "0\n",
      "1\n",
      "2\n",
      "3\n",
      "4\n",
      "0\n",
      "1\n",
      "2\n",
      "3\n",
      "4\n",
      "0\n",
      "1\n",
      "2\n",
      "3\n",
      "4\n",
      "0\n",
      "1\n",
      "2\n",
      "3\n",
      "4\n",
      "0\n",
      "1\n",
      "2\n",
      "3\n",
      "4\n",
      "0\n",
      "1\n",
      "2\n",
      "3\n",
      "4\n",
      "0\n",
      "1\n",
      "2\n",
      "3\n",
      "4\n",
      "0\n",
      "1\n",
      "2\n",
      "3\n",
      "4\n",
      "0\n",
      "1\n",
      "2\n",
      "3\n",
      "4\n",
      "0\n",
      "1\n",
      "2\n",
      "3\n",
      "4\n",
      "0\n",
      "1\n",
      "2\n",
      "3\n",
      "4\n",
      "0\n",
      "1\n",
      "2\n",
      "3\n",
      "4\n",
      "0\n",
      "1\n",
      "2\n",
      "3\n",
      "4\n",
      "0\n",
      "1\n",
      "2\n",
      "3\n",
      "4\n",
      "0\n",
      "1\n",
      "2\n",
      "3\n",
      "4\n",
      "0\n",
      "1\n",
      "2\n",
      "3\n",
      "4\n",
      "0\n",
      "1\n",
      "2\n",
      "3\n",
      "4\n",
      "0\n",
      "1\n",
      "2\n",
      "3\n",
      "4\n",
      "0\n",
      "1\n",
      "2\n",
      "3\n",
      "4\n",
      "0\n",
      "1\n",
      "2\n",
      "3\n",
      "4\n",
      "0\n",
      "1\n",
      "2\n",
      "3\n",
      "4\n",
      "0\n",
      "1\n",
      "2\n",
      "3\n",
      "4\n"
     ]
    },
    {
     "data": {
      "text/plain": [
       "[[1,\n",
       "  tensor(1323),\n",
       "  tensor(1323),\n",
       "  tensor(1323),\n",
       "  tensor(1323),\n",
       "  tensor(1323),\n",
       "  tensor(1323),\n",
       "  tensor(1323),\n",
       "  tensor(1178),\n",
       "  tensor(1323),\n",
       "  tensor(1323),\n",
       "  tensor(1178),\n",
       "  tensor(1323),\n",
       "  tensor(1178),\n",
       "  tensor(1323),\n",
       "  tensor(1178),\n",
       "  tensor(1323),\n",
       "  tensor(1178),\n",
       "  tensor(1323),\n",
       "  tensor(1178),\n",
       "  tensor(1323),\n",
       "  tensor(1178),\n",
       "  tensor(1323),\n",
       "  tensor(1178),\n",
       "  tensor(1323),\n",
       "  tensor(1178),\n",
       "  tensor(1323),\n",
       "  tensor(1178),\n",
       "  tensor(1323),\n",
       "  tensor(1178),\n",
       "  tensor(1323),\n",
       "  tensor(1178)],\n",
       " [1,\n",
       "  tensor(2582),\n",
       "  tensor(2582),\n",
       "  tensor(2582),\n",
       "  tensor(2582),\n",
       "  tensor(2582),\n",
       "  tensor(2582),\n",
       "  tensor(2582),\n",
       "  tensor(2582),\n",
       "  tensor(2582),\n",
       "  tensor(2582),\n",
       "  tensor(2582),\n",
       "  tensor(2582),\n",
       "  tensor(2582),\n",
       "  tensor(2582),\n",
       "  tensor(2582),\n",
       "  tensor(2582),\n",
       "  tensor(2582),\n",
       "  tensor(2582),\n",
       "  tensor(2582),\n",
       "  tensor(2582),\n",
       "  tensor(2582),\n",
       "  tensor(2582),\n",
       "  tensor(2582),\n",
       "  tensor(2582),\n",
       "  tensor(2582),\n",
       "  tensor(2582),\n",
       "  tensor(2582),\n",
       "  tensor(2582),\n",
       "  tensor(2582),\n",
       "  tensor(2582),\n",
       "  tensor(2582)]]"
      ]
     },
     "execution_count": 109,
     "metadata": {},
     "output_type": "execute_result"
    }
   ],
   "source": [
    "for t in range(max_caption_len + 1):\n",
    "    beam_output_list = [] # width x ( 1, 100 )\n",
    "    normalized_beam_output_list = [] # width x ( 1, 100 )\n",
    "    if model.rnn_type == \"LSTM\":\n",
    "        beam_hidden_list = ( [], [] ) # 2 * width x ( 1, 100, 512 )\n",
    "    else:\n",
    "        beam_hidden_list = [] # width x ( 1, 100, 512 )\n",
    "    next_output_list = [ [] for _ in range(batch_size) ]\n",
    "\n",
    "    assert len(input_list) == len(hidden_list) == len(cum_prob_list)\n",
    "    for i, (input, hidden, cum_prob) in enumerate(zip(input_list, hidden_list, cum_prob_list)):\n",
    "        output, next_hidden, _ = model.forward_word(feats, hidden, input)\n",
    "\n",
    "        caption_list = [ output_list[b][i] for b in range(batch_size)]\n",
    "        EOS_mask = [ 0. if EOS_idx in [ idx.item() for idx in caption ] else 1. for caption in caption_list ]\n",
    "        EOS_mask = torch.FloatTensor(EOS_mask)\n",
    "        EOS_mask = EOS_mask.unsqueeze(1).expand_as(output)\n",
    "        output = EOS_mask * output\n",
    "\n",
    "        output += cum_prob.unsqueeze(1)\n",
    "        beam_output_list.append(output)\n",
    "\n",
    "        caption_lens = [ [ idx.item() for idx in caption ].index(EOS_idx) + 1 if EOS_idx in [ idx.item() for idx in caption ] else t + 1 for caption in caption_list ]\n",
    "        caption_lens = torch.FloatTensor(caption_lens)\n",
    "        normalizing_factor = ((5 + caption_lens) ** alpha) / (6 ** alpha)\n",
    "        normalizing_factor = normalizing_factor.unsqueeze(1).expand_as(output)\n",
    "        normalized_output = output / normalizing_factor\n",
    "        normalized_beam_output_list.append(normalized_output)\n",
    "        if model.rnn_type == \"LSTM\":\n",
    "            beam_hidden_list[0].append(next_hidden[0])\n",
    "            beam_hidden_list[1].append(next_hidden[1])\n",
    "        else:\n",
    "            beam_hidden_list.append(next_hidden)\n",
    "    beam_output_list = torch.cat(beam_output_list, dim=1) # ( 100, n_vocabs * width )\n",
    "    normalized_beam_output_list = torch.cat(normalized_beam_output_list, dim=1)\n",
    "    beam_topk_output_index_list = normalized_beam_output_list.argsort(dim=1, descending=True)[:, :width] # ( 100, width )\n",
    "    topk_beam_index = beam_topk_output_index_list // vocab_size # ( 100, width )\n",
    "    topk_output_index = beam_topk_output_index_list % vocab_size # ( 100, width )\n",
    "\n",
    "    topk_output_list = [ topk_output_index[:, i] for i in range(width) ] # width * ( 100, )\n",
    "    if model.rnn_type == \"LSTM\":\n",
    "        topk_hidden_list = (\n",
    "            [ [] for _ in range(width) ],\n",
    "            [ [] for _ in range(width) ]) # 2 * width * (1, 100, 512)\n",
    "    else:\n",
    "        topk_hidden_list = [ [] for _ in range(width) ] # width * ( 1, 100, 512 )\n",
    "    topk_cum_prob_list = [ [] for _ in range(width) ] # width * ( 100, )\n",
    "    for i, (beam_index, output_index) in enumerate(zip(topk_beam_index, topk_output_index)):\n",
    "        for k, (bi, oi) in enumerate(zip(beam_index, output_index)):\n",
    "            if model.rnn_type == \"LSTM\":\n",
    "                topk_hidden_list[0][k].append(beam_hidden_list[0][bi][:, i, :])\n",
    "                topk_hidden_list[1][k].append(beam_hidden_list[1][bi][:, i, :])\n",
    "            else:\n",
    "                topk_hidden_list[k].append(beam_hidden_list[bi][:, i, :])\n",
    "            topk_cum_prob_list[k].append(beam_output_list[i][vocab_size * bi + oi])\n",
    "            next_output_list[i].append(output_list[i][bi] + [ oi ])\n",
    "    output_list = next_output_list\n",
    "\n",
    "    input_list = [ topk_output.unsqueeze(0) for topk_output in topk_output_list ] # width * ( 1, 100 )\n",
    "    if model.rnn_type == \"LSTM\":\n",
    "        hidden_list = (\n",
    "            [ torch.stack(topk_hidden, dim=1) for topk_hidden in topk_hidden_list[0] ],\n",
    "            [ torch.stack(topk_hidden, dim=1) for topk_hidden in topk_hidden_list[1] ]) # 2 * width * ( 1, 100, 512 )\n",
    "        hidden_list = [ ( hidden, context ) for hidden, context in zip(*hidden_list) ]\n",
    "    else:\n",
    "        hidden_list = [ torch.stack(topk_hidden, dim=1) for topk_hidden in topk_hidden_list ] # width * ( 1, 100, 512 )\n",
    "    cum_prob_list = [ torch.FloatTensor(topk_cum_prob) for topk_cum_prob in topk_cum_prob_list ] # width * ( 100, )\n",
    "\n",
    "SOS_idx = vocab.stoi['<SOS>']\n",
    "outputs = [ [ SOS_idx ] + o[0] for o in output_list ]\n",
    "outputs"
   ]
  },
  {
   "cell_type": "code",
   "execution_count": null,
   "metadata": {
    "ExecuteTime": {
     "end_time": "2021-06-17T02:31:08.712222Z",
     "start_time": "2021-06-17T02:31:08.599632Z"
    }
   },
   "outputs": [],
   "source": []
  },
  {
   "cell_type": "code",
   "execution_count": 78,
   "metadata": {
    "ExecuteTime": {
     "end_time": "2021-06-17T02:39:42.437655Z",
     "start_time": "2021-06-17T02:39:42.331938Z"
    }
   },
   "outputs": [
    {
     "data": {
      "text/plain": [
       "torch.Size([32, 32])"
      ]
     },
     "execution_count": 78,
     "metadata": {},
     "output_type": "execute_result"
    }
   ],
   "source": [
    "pred = torch.tensor(outputs)\n",
    "pred.shape"
   ]
  },
  {
   "cell_type": "code",
   "execution_count": 70,
   "metadata": {
    "ExecuteTime": {
     "end_time": "2021-06-17T02:37:28.077203Z",
     "start_time": "2021-06-17T02:37:27.980185Z"
    }
   },
   "outputs": [],
   "source": [
    "EOS_idx = vocab.stoi['<EOS>']"
   ]
  },
  {
   "cell_type": "code",
   "execution_count": 71,
   "metadata": {
    "ExecuteTime": {
     "end_time": "2021-06-17T02:37:38.277175Z",
     "start_time": "2021-06-17T02:37:38.182184Z"
    }
   },
   "outputs": [],
   "source": [
    "p = pred[0]"
   ]
  },
  {
   "cell_type": "code",
   "execution_count": 72,
   "metadata": {
    "ExecuteTime": {
     "end_time": "2021-06-17T02:37:45.065443Z",
     "start_time": "2021-06-17T02:37:44.937092Z"
    }
   },
   "outputs": [
    {
     "data": {
      "text/plain": [
       "tensor([   1, 2148, 2148, 2148, 2906, 2906, 2906, 2906, 2906, 2906, 2906, 2906,\n",
       "        2906, 2906, 2906, 2906, 2906, 2906, 2906, 2906, 2906, 2906, 2906, 2906,\n",
       "        2906, 2906, 2906, 2906, 2906, 2906, 2906, 2906])"
      ]
     },
     "execution_count": 72,
     "metadata": {},
     "output_type": "execute_result"
    }
   ],
   "source": [
    "p"
   ]
  },
  {
   "cell_type": "code",
   "execution_count": 80,
   "metadata": {
    "ExecuteTime": {
     "end_time": "2021-06-17T02:40:24.672467Z",
     "start_time": "2021-06-17T02:40:24.495453Z"
    }
   },
   "outputs": [
    {
     "name": "stdout",
     "output_type": "stream",
     "text": [
      "sleepy sleepy sleepy fork fork fork fork fork fork fork fork fork fork fork fork fork fork fork fork fork fork fork fork fork fork fork fork fork fork fork fork almost brings brings brings brings brings brings brings brings herself herself herself herself herself herself herself herself herself herself herself herself herself herself herself herself herself herself herself herself herself herself sleepy hen hen hen hen hen hen hen hen hen hen hen hen hen hen hen hen hen hen hen hen hen hen hen hen hen hen hen hen hen hen : enjoying enjoying enjoying enjoying enjoying booth enjoying booth enjoying booth enjoying booth enjoying booth enjoying booth enjoying booth enjoying booth enjoying booth enjoying booth enjoying booth enjoying booth enjoying booth hen hen hen hen hen hen hen hen hen hen hen hen hen hen hen hen hen hen hen hen hen hen hen hen hen hen hen hen hen hen hen uses uses uses lipstick lipstick lipstick lipstick lipstick lipstick lipstick lipstick lipstick lipstick stairs lipstick stairs lipstick stairs lipstick stairs lipstick stairs lipstick stairs lipstick stairs lipstick stairs lipstick lipstick stairs almost brings brings brings brings brings brings brings brings herself herself herself herself herself herself herself herself herself herself herself herself herself herself herself herself herself herself herself herself herself herself hen hen hen hen hen hen hen hen hen hen hen hen hen hen hen hen hen hen hen hen hen hen hen hen hen hen hen hen hen hen hen : : tray tray tray tray tray tray tray tray tray tray tray tray tray tray tray tray tray tray tray tray tray tray tray tray tray tray tray tray tray sleepy sleepy sleepy fork fork fork fork fork fork fork fork fork fork fork fork fork fork fork fork fork fork fork fork fork fork fork fork fork fork fork fork sleepy hen hen hen hen hen hen hen hen hen hen hen hen hen hen hen hen hen hen hen hen hen hen hen hen hen hen hen hen hen hen catches catches catches catches catches catches catches catches catches catches catches catches catches catches catches catches catches catches catches catches catches catches catches catches catches catches catches catches catches catches catches handgun practiced practiced practiced practiced practiced practiced practiced practiced practiced practiced practiced practiced practiced practiced practiced practiced practiced practiced practiced practiced practiced practiced practiced practiced practiced practiced practiced practiced practiced practiced sleepy sleepy sleepy fork fork fork fork fork fork fork fork fork fork fork fork fork fork fork fork fork fork fork fork fork fork fork fork fork fork fork fork papers papers papers papers papers papers papers papers papers papers papers papers papers papers papers papers papers papers papers papers papers papers papers papers papers papers papers papers papers papers papers brings brings brings brings brings brings brings brings brings poll poll poll poll poll poll poll poll poll poll poll poll poll poll poll poll poll poll poll poll poll poll wife wife wife wife wife wife wife wife wife wife wife wife wife wife wife wife wife wife wife wife wife wife wife wife wife wife wife wife wife wife wife : : tray tray tray tray tray tray tray tray tray tray tray tray tray tray tray tray tray tray tray tray tray tray tray tray tray tray tray tray tray bat bat bat bat bat bat bat bat bat bat bat bat bat bat bat bat bat bat bat bat bat bat bat bat bat bat bat bat bat bat bat sneezes bat bat bat bat bat bat bat bat bat bat bat bat bat bat bat bat bat bat bat bat bat bat bat bat bat sneezes sneezes sneezes sneezes bat booth booth booth booth booth booth booth booth rocks booth rocks booth rocks thinly thinly thinly thinly thinly thinly thinly thinly thinly thinly thinly thinly thinly thinly thinly thinly thinly thinly papers papers papers papers papers papers papers papers papers papers papers papers papers papers papers papers papers papers papers papers papers papers papers papers papers papers papers papers papers papers papers dropping dropping dropping dropping dropping watched watched watched watched watched watched watched watched watched watched watched watched watched watched watched watched watched watched watched watched watched watched watched watched watched watched : enjoying enjoying enjoying enjoying enjoying booth enjoying booth enjoying booth enjoying booth enjoying booth enjoying booth enjoying booth enjoying booth enjoying booth enjoying booth enjoying booth enjoying booth enjoying booth : : tray tray tray tray tray tray tray tray tray tray tray tray tray tray tray tray tray tray tray tray tray tray tray tray tray tray tray tray tray hen hen hen hen hen hen hen hen hen hen hen hen hen hen hen hen hen hen hen hen hen hen hen hen hen hen hen hen hen hen hen uses uses uses lipstick lipstick lipstick lipstick lipstick lipstick lipstick lipstick lipstick lipstick stairs lipstick stairs lipstick stairs lipstick stairs lipstick stairs lipstick stairs lipstick stairs lipstick stairs lipstick lipstick stairs handgun practiced practiced practiced practiced practiced practiced practiced practiced practiced practiced practiced practiced practiced practiced practiced practiced practiced practiced practiced practiced practiced practiced practiced practiced practiced practiced practiced practiced practiced practiced looking notebook brings notebook looking booth saw booth saw booth saw booth saw guttier guttier guttier guttier booth saw guttier guttier guttier guttier guttier guttier guttier guttier guttier guttier guttier guttier death death death death death uses uses uses uses uses uses uses uses uses uses uses uses uses uses uses uses uses uses uses uses uses uses uses uses uses uses notebook notebook notebook notebook notebook notebook notebook notebook notebook notebook notebook notebook notebook notebook notebook notebook notebook notebook notebook notebook notebook notebook notebook notebook notebook notebook notebook notebook notebook notebook notebook creating creating creating talk talk border border border border border border border border border border border border border border border border border border border border border border border border border border "
     ]
    }
   ],
   "source": [
    "for p in pred:\n",
    "    for idx in p[1:]:\n",
    "        idx = idx.item()\n",
    "        if idx == EOS_idx:\n",
    "            break\n",
    "        print(vocab.itos[idx], end = ' ')\n",
    "        "
   ]
  },
  {
   "cell_type": "code",
   "execution_count": null,
   "metadata": {},
   "outputs": [],
   "source": []
  },
  {
   "cell_type": "markdown",
   "metadata": {},
   "source": [
    "# Bean Search"
   ]
  },
  {
   "cell_type": "code",
   "execution_count": 158,
   "metadata": {
    "ExecuteTime": {
     "end_time": "2021-06-17T06:54:34.582993Z",
     "start_time": "2021-06-17T06:54:33.800745Z"
    }
   },
   "outputs": [],
   "source": [
    "from models.features_captioning import FeaturesCaptioning\n",
    "from models.captioning import AVCaptioning\n",
    "from trainer import Trainer"
   ]
  },
  {
   "cell_type": "code",
   "execution_count": 159,
   "metadata": {
    "ExecuteTime": {
     "end_time": "2021-06-17T06:54:35.392318Z",
     "start_time": "2021-06-17T06:54:35.271851Z"
    }
   },
   "outputs": [
    {
     "name": "stdout",
     "output_type": "stream",
     "text": [
      "Loading Vocab: ../datasets/MSVD/metadata/vocab.pkl \n"
     ]
    }
   ],
   "source": [
    "dataset_folder = os.path.join(\"../datasets\", \"MSVD\")\n",
    "vocab_pkl = os.path.join(dataset_folder, \"metadata\", \"vocab.pkl\")\n",
    "tiny_loader, tiny_dataset = get_loader(root_dir=dataset_folder, split=\"tiny\", vocab_pkl=vocab_pkl, batch_size=2)"
   ]
  },
  {
   "cell_type": "code",
   "execution_count": 160,
   "metadata": {
    "ExecuteTime": {
     "end_time": "2021-06-17T06:54:35.922585Z",
     "start_time": "2021-06-17T06:54:35.826054Z"
    }
   },
   "outputs": [
    {
     "name": "stdout",
     "output_type": "stream",
     "text": [
      "3201\n"
     ]
    }
   ],
   "source": [
    "vocab = Vocabulary.load(vocab_pkl)\n",
    "print(len(vocab))"
   ]
  },
  {
   "cell_type": "code",
   "execution_count": 161,
   "metadata": {
    "ExecuteTime": {
     "end_time": "2021-06-17T06:54:36.396387Z",
     "start_time": "2021-06-17T06:54:36.276101Z"
    }
   },
   "outputs": [],
   "source": [
    "decoder_config = {    \n",
    "    'rnn_type'       : 'LSTM', # ['LSTM', 'GRU']\n",
    "    'rnn_num_layers' : 1,\n",
    "    'rnn_bidirectional': False,  # Bool\n",
    "    'rnn_hidden_size': 512,\n",
    "    'rnn_dropout'    : 0.5,    \n",
    "    \n",
    "    'in_feature_size': 1000+128,\n",
    "    'embedding_size' : 128,\n",
    "    'attn_size'      : 128,\n",
    "    'output_size'    : 3201, #Vocab Size\n",
    "\n",
    "    'rnn_teacher_forcing_ratio' : 1.0,\n",
    "    'max_caption_len' : 30,\n",
    "}"
   ]
  },
  {
   "cell_type": "code",
   "execution_count": 162,
   "metadata": {
    "ExecuteTime": {
     "end_time": "2021-06-17T06:54:36.940542Z",
     "start_time": "2021-06-17T06:54:36.776089Z"
    }
   },
   "outputs": [
    {
     "data": {
      "text/plain": [
       "FeaturesCaptioning(\n",
       "  (embedding): Embedding(3201, 128)\n",
       "  (attention): TemporalAttention(\n",
       "    (W): Linear(in_features=512, out_features=128, bias=False)\n",
       "    (U): Linear(in_features=1128, out_features=128, bias=False)\n",
       "    (w): Linear(in_features=128, out_features=1, bias=False)\n",
       "  )\n",
       "  (rnn): LSTM(1256, 512)\n",
       "  (out): Linear(in_features=512, out_features=3201, bias=True)\n",
       ")"
      ]
     },
     "execution_count": 162,
     "metadata": {},
     "output_type": "execute_result"
    }
   ],
   "source": [
    "device = torch.device(\"cuda\" if torch.cuda.is_available() else \"cpu\")\n",
    "\n",
    "config = decoder_config.copy()\n",
    "config['output_size'] = len(vocab)\n",
    "model = FeaturesCaptioning(**config)\n",
    "model.to(device)\n"
   ]
  },
  {
   "cell_type": "code",
   "execution_count": 163,
   "metadata": {
    "ExecuteTime": {
     "end_time": "2021-06-17T06:54:37.370625Z",
     "start_time": "2021-06-17T06:54:37.259314Z"
    }
   },
   "outputs": [
    {
     "data": {
      "text/plain": [
       "(torch.Size([2, 11, 1128]), torch.Size([10, 2]))"
      ]
     },
     "execution_count": 163,
     "metadata": {},
     "output_type": "execute_result"
    }
   ],
   "source": [
    "data = iter(tiny_loader).next()\n",
    "x,y = data\n",
    "x.shape, y.shape"
   ]
  },
  {
   "cell_type": "code",
   "execution_count": 164,
   "metadata": {
    "ExecuteTime": {
     "end_time": "2021-06-17T06:54:37.909340Z",
     "start_time": "2021-06-17T06:54:37.648314Z"
    }
   },
   "outputs": [
    {
     "data": {
      "text/plain": [
       "(torch.Size([30, 2, 3201]), torch.Size([30, 1, 2, 512]))"
      ]
     },
     "execution_count": 164,
     "metadata": {},
     "output_type": "execute_result"
    }
   ],
   "source": [
    "outputs, hidden = model.decode(x,max_caption_len=30)\n",
    "outputs.shape, hidden.shape"
   ]
  },
  {
   "cell_type": "code",
   "execution_count": 165,
   "metadata": {
    "ExecuteTime": {
     "end_time": "2021-06-17T06:54:39.519333Z",
     "start_time": "2021-06-17T06:54:38.183376Z"
    }
   },
   "outputs": [],
   "source": [
    "output = model.beam_search_predict(x, vocab)"
   ]
  },
  {
   "cell_type": "code",
   "execution_count": null,
   "metadata": {},
   "outputs": [],
   "source": []
  }
 ],
 "metadata": {
  "kernelspec": {
   "display_name": "Python 3",
   "language": "python",
   "name": "python3"
  },
  "language_info": {
   "codemirror_mode": {
    "name": "ipython",
    "version": 3
   },
   "file_extension": ".py",
   "mimetype": "text/x-python",
   "name": "python",
   "nbconvert_exporter": "python",
   "pygments_lexer": "ipython3",
   "version": "3.6.8"
  },
  "toc": {
   "base_numbering": 1,
   "nav_menu": {},
   "number_sections": true,
   "sideBar": true,
   "skip_h1_title": false,
   "title_cell": "Table of Contents",
   "title_sidebar": "Contents",
   "toc_cell": false,
   "toc_position": {},
   "toc_section_display": true,
   "toc_window_display": false
  },
  "varInspector": {
   "cols": {
    "lenName": 16,
    "lenType": 16,
    "lenVar": 40
   },
   "kernels_config": {
    "python": {
     "delete_cmd_postfix": "",
     "delete_cmd_prefix": "del ",
     "library": "var_list.py",
     "varRefreshCmd": "print(var_dic_list())"
    },
    "r": {
     "delete_cmd_postfix": ") ",
     "delete_cmd_prefix": "rm(",
     "library": "var_list.r",
     "varRefreshCmd": "cat(var_dic_list()) "
    }
   },
   "types_to_exclude": [
    "module",
    "function",
    "builtin_function_or_method",
    "instance",
    "_Feature"
   ],
   "window_display": false
  }
 },
 "nbformat": 4,
 "nbformat_minor": 2
}
